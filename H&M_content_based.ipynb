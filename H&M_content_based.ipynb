{
 "cells": [
  {
   "cell_type": "code",
   "execution_count": null,
   "metadata": {
    "id": "elsqi3B0Xr2H"
   },
   "outputs": [],
   "source": [
    "import pandas as pd\n",
    "import numpy as np"
   ]
  },
  {
   "cell_type": "code",
   "execution_count": null,
   "metadata": {
    "id": "XFJy_JjhXr2I"
   },
   "outputs": [],
   "source": [
    "import sklearn\n",
    "from sklearn.decomposition import TruncatedSVD\n",
    "import seaborn as sns\n",
    "import matplotlib.pyplot as plt"
   ]
  },
  {
   "cell_type": "code",
   "execution_count": null,
   "metadata": {
    "id": "a7NejfmvXr2J"
   },
   "outputs": [],
   "source": [
    "articles_df = pd.read_csv(\"articles_subset.csv\")"
   ]
  },
  {
   "cell_type": "code",
   "execution_count": null,
   "metadata": {
    "colab": {
     "base_uri": "https://localhost:8080/"
    },
    "id": "Hs2QomHyXr2W",
    "outputId": "e54a5d1a-8a08-4f8a-c3fd-90ddef77b961"
   },
   "outputs": [
    {
     "name": "stdout",
     "output_type": "stream",
     "text": [
      "[nltk_data] Downloading package stopwords to /root/nltk_data...\n",
      "[nltk_data]   Package stopwords is already up-to-date!\n"
     ]
    }
   ],
   "source": [
    "import pandas as pd\n",
    "import numpy as np\n",
    "from sklearn.feature_extraction.text import CountVectorizer\n",
    "from sklearn.metrics.pairwise import cosine_similarity\n",
    "from nltk.corpus import stopwords\n",
    "import nltk\n",
    "nltk.download('stopwords')\n",
    "%matplotlib inline\n",
    "import warnings\n",
    "warnings.filterwarnings('ignore')"
   ]
  },
  {
   "cell_type": "code",
   "execution_count": null,
   "metadata": {
    "colab": {
     "base_uri": "https://localhost:8080/"
    },
    "id": "O3PitYpaXr2W",
    "outputId": "26106fe7-aae5-4dd7-b71e-1c2b759d59b3"
   },
   "outputs": [
    {
     "data": {
      "text/plain": [
       "article_id                      99773\n",
       "product_code                    99773\n",
       "prod_name                       99773\n",
       "product_type_no                 99773\n",
       "product_type_name               99773\n",
       "product_group_name              99773\n",
       "graphical_appearance_no         99773\n",
       "graphical_appearance_name       99773\n",
       "colour_group_code               99773\n",
       "colour_group_name               99773\n",
       "perceived_colour_value_id       99773\n",
       "perceived_colour_value_name     99773\n",
       "perceived_colour_master_id      99773\n",
       "perceived_colour_master_name    99773\n",
       "department_no                   99773\n",
       "department_name                 99773\n",
       "index_code                      99773\n",
       "index_name                      99773\n",
       "index_group_no                  99773\n",
       "index_group_name                99773\n",
       "section_no                      99773\n",
       "section_name                    99773\n",
       "garment_group_no                99773\n",
       "garment_group_name              99773\n",
       "detail_desc                     99773\n",
       "dtype: int64"
      ]
     },
     "execution_count": 5,
     "metadata": {},
     "output_type": "execute_result"
    }
   ],
   "source": [
    "articles_df.isna().count()"
   ]
  },
  {
   "cell_type": "code",
   "execution_count": null,
   "metadata": {
    "id": "iXHf7SpAXr2W"
   },
   "outputs": [],
   "source": [
    "new_articles = articles_df.iloc[:,[0,2,4,5,7,9,11,13,15,17,19,21,23,24]]"
   ]
  },
  {
   "cell_type": "code",
   "execution_count": null,
   "metadata": {
    "colab": {
     "base_uri": "https://localhost:8080/"
    },
    "id": "-hhPtaOBC0Nq",
    "outputId": "5415bc83-f5bd-4506-e7cc-73668ecac2fe"
   },
   "outputs": [
    {
     "data": {
      "text/plain": [
       "(99773, 14)"
      ]
     },
     "execution_count": 7,
     "metadata": {},
     "output_type": "execute_result"
    }
   ],
   "source": [
    "new_articles.shape"
   ]
  },
  {
   "cell_type": "markdown",
   "metadata": {},
   "source": [
    "## Creating Features for Item Profiles"
   ]
  },
  {
   "cell_type": "code",
   "execution_count": null,
   "metadata": {
    "id": "MmjCTBB4Xr2W"
   },
   "outputs": [],
   "source": [
    "\n",
    "new_articles[\"detail_desc\"] = new_articles[\"detail_desc\"].fillna('')"
   ]
  },
  {
   "cell_type": "code",
   "execution_count": null,
   "metadata": {
    "id": "GBUJr1w_Xr2W"
   },
   "outputs": [],
   "source": [
    "def combine_features(row):\n",
    "    try:\n",
    "        #return '_'.join(row['prod_name'].split(\" \")) +\" \"+'_'.join(row['product_type_name'].split(\" \"))+\" \"+'_'.join(row[\"product_group_name\"].split(\" \"))+\" \"+'_'.join(row[\"graphical_appearance_name\"].split(\" \"))+\" \"+'_'.join(row[\"colour_group_name\"].split(\" \")) + \" \"+ '_'.join(row['perceived_colour_value_name'].split(\" \")) +\" \"+'_'.join(row['perceived_colour_master_name'].split(\" \"))+\" \"+'_'.join(row[\"department_name\"].split(\" \"))+\" \"+'_'.join(row[\"index_name\"].split(\" \"))+\" \"+'_'.join(row[\"index_group_name\"].split(\" \")) +\" \"+ '_'.join(row[\"section_name\"].split(\" \"))+\" \"+'_'.join(row[\"garment_group_name\"].split(\" \"))  \n",
    "        return row['prod_name'] +\" \"+row['product_type_name']+\" \"+row[\"product_group_name\"]+\" \"+row[\"graphical_appearance_name\"]+\" \"+row[\"colour_group_name\"] + \" \"+ row['perceived_colour_value_name'] +\" \"+row['perceived_colour_master_name']+\" \"+row[\"department_name\"]+\" \"+row[\"index_name\"]+\" \"+row[\"index_group_name\"] +\" \"+ row[\"section_name\"]+\" \"+row[\"garment_group_name\"]+\" \"+row[\"detail_desc\"]\n",
    "    except Exception as e:\n",
    "        print(\"Error:\", e,row)\n",
    "    \n",
    "new_articles[\"combined_features\"] = new_articles.apply(combine_features,axis=1)"
   ]
  },
  {
   "cell_type": "code",
   "execution_count": null,
   "metadata": {
    "id": "QpsMKsFFXr2X"
   },
   "outputs": [],
   "source": [
    "df_new = new_articles\n",
    "df_new['index'] = df_new.index"
   ]
  },
  {
   "cell_type": "code",
   "execution_count": null,
   "metadata": {
    "id": "8OldjCM5Xr2X"
   },
   "outputs": [],
   "source": [
    "stop_words = stopwords.words('english')\n",
    "df_new['combined_features'] = df_new['combined_features'].str.lower().str.split()\n",
    "df_new[\"features\"]=df_new[\"combined_features\"].apply(lambda x: [word for word in x if word not in stop_words])\n",
    "df_new[\"features\"]=df_new[\"features\"].apply(lambda x: \" \".join(x))"
   ]
  },
  {
   "cell_type": "code",
   "execution_count": null,
   "metadata": {
    "colab": {
     "base_uri": "https://localhost:8080/",
     "height": 669
    },
    "id": "u1YKSCzl2zcK",
    "outputId": "70325a28-f3f5-4f0d-8e8a-3544f33ecc7c"
   },
   "outputs": [
    {
     "data": {
      "text/html": [
       "\n",
       "  <div id=\"df-b2c0e075-ca12-4296-8984-7a0797259084\">\n",
       "    <div class=\"colab-df-container\">\n",
       "      <div>\n",
       "<style scoped>\n",
       "    .dataframe tbody tr th:only-of-type {\n",
       "        vertical-align: middle;\n",
       "    }\n",
       "\n",
       "    .dataframe tbody tr th {\n",
       "        vertical-align: top;\n",
       "    }\n",
       "\n",
       "    .dataframe thead th {\n",
       "        text-align: right;\n",
       "    }\n",
       "</style>\n",
       "<table border=\"1\" class=\"dataframe\">\n",
       "  <thead>\n",
       "    <tr style=\"text-align: right;\">\n",
       "      <th></th>\n",
       "      <th>article_id</th>\n",
       "      <th>prod_name</th>\n",
       "      <th>product_type_name</th>\n",
       "      <th>product_group_name</th>\n",
       "      <th>graphical_appearance_name</th>\n",
       "      <th>colour_group_name</th>\n",
       "      <th>perceived_colour_value_name</th>\n",
       "      <th>perceived_colour_master_name</th>\n",
       "      <th>department_name</th>\n",
       "      <th>index_name</th>\n",
       "      <th>index_group_name</th>\n",
       "      <th>section_name</th>\n",
       "      <th>garment_group_name</th>\n",
       "      <th>detail_desc</th>\n",
       "      <th>combined_features</th>\n",
       "      <th>index</th>\n",
       "      <th>features</th>\n",
       "    </tr>\n",
       "  </thead>\n",
       "  <tbody>\n",
       "    <tr>\n",
       "      <th>0</th>\n",
       "      <td>108775015</td>\n",
       "      <td>Strap top</td>\n",
       "      <td>Vest top</td>\n",
       "      <td>Garment Upper body</td>\n",
       "      <td>Solid</td>\n",
       "      <td>Black</td>\n",
       "      <td>Dark</td>\n",
       "      <td>Black</td>\n",
       "      <td>Jersey Basic</td>\n",
       "      <td>Ladieswear</td>\n",
       "      <td>Ladieswear</td>\n",
       "      <td>Womens Everyday Basics</td>\n",
       "      <td>Jersey Basic</td>\n",
       "      <td>Jersey top with narrow shoulder straps.</td>\n",
       "      <td>[strap, top, vest, top, garment, upper, body, ...</td>\n",
       "      <td>0</td>\n",
       "      <td>strap top vest top garment upper body solid bl...</td>\n",
       "    </tr>\n",
       "    <tr>\n",
       "      <th>1</th>\n",
       "      <td>108775044</td>\n",
       "      <td>Strap top</td>\n",
       "      <td>Vest top</td>\n",
       "      <td>Garment Upper body</td>\n",
       "      <td>Solid</td>\n",
       "      <td>White</td>\n",
       "      <td>Light</td>\n",
       "      <td>White</td>\n",
       "      <td>Jersey Basic</td>\n",
       "      <td>Ladieswear</td>\n",
       "      <td>Ladieswear</td>\n",
       "      <td>Womens Everyday Basics</td>\n",
       "      <td>Jersey Basic</td>\n",
       "      <td>Jersey top with narrow shoulder straps.</td>\n",
       "      <td>[strap, top, vest, top, garment, upper, body, ...</td>\n",
       "      <td>1</td>\n",
       "      <td>strap top vest top garment upper body solid wh...</td>\n",
       "    </tr>\n",
       "    <tr>\n",
       "      <th>2</th>\n",
       "      <td>108775051</td>\n",
       "      <td>Strap top (1)</td>\n",
       "      <td>Vest top</td>\n",
       "      <td>Garment Upper body</td>\n",
       "      <td>Stripe</td>\n",
       "      <td>Off White</td>\n",
       "      <td>Dusty Light</td>\n",
       "      <td>White</td>\n",
       "      <td>Jersey Basic</td>\n",
       "      <td>Ladieswear</td>\n",
       "      <td>Ladieswear</td>\n",
       "      <td>Womens Everyday Basics</td>\n",
       "      <td>Jersey Basic</td>\n",
       "      <td>Jersey top with narrow shoulder straps.</td>\n",
       "      <td>[strap, top, (1), vest, top, garment, upper, b...</td>\n",
       "      <td>2</td>\n",
       "      <td>strap top (1) vest top garment upper body stri...</td>\n",
       "    </tr>\n",
       "    <tr>\n",
       "      <th>3</th>\n",
       "      <td>110065001</td>\n",
       "      <td>OP T-shirt (Idro)</td>\n",
       "      <td>Bra</td>\n",
       "      <td>Underwear</td>\n",
       "      <td>Solid</td>\n",
       "      <td>Black</td>\n",
       "      <td>Dark</td>\n",
       "      <td>Black</td>\n",
       "      <td>Clean Lingerie</td>\n",
       "      <td>Lingeries/Tights</td>\n",
       "      <td>Ladieswear</td>\n",
       "      <td>Womens Lingerie</td>\n",
       "      <td>Under-, Nightwear</td>\n",
       "      <td>Microfibre T-shirt bra with underwired, moulde...</td>\n",
       "      <td>[op, t-shirt, (idro), bra, underwear, solid, b...</td>\n",
       "      <td>3</td>\n",
       "      <td>op t-shirt (idro) bra underwear solid black da...</td>\n",
       "    </tr>\n",
       "    <tr>\n",
       "      <th>4</th>\n",
       "      <td>110065002</td>\n",
       "      <td>OP T-shirt (Idro)</td>\n",
       "      <td>Bra</td>\n",
       "      <td>Underwear</td>\n",
       "      <td>Solid</td>\n",
       "      <td>White</td>\n",
       "      <td>Light</td>\n",
       "      <td>White</td>\n",
       "      <td>Clean Lingerie</td>\n",
       "      <td>Lingeries/Tights</td>\n",
       "      <td>Ladieswear</td>\n",
       "      <td>Womens Lingerie</td>\n",
       "      <td>Under-, Nightwear</td>\n",
       "      <td>Microfibre T-shirt bra with underwired, moulde...</td>\n",
       "      <td>[op, t-shirt, (idro), bra, underwear, solid, w...</td>\n",
       "      <td>4</td>\n",
       "      <td>op t-shirt (idro) bra underwear solid white li...</td>\n",
       "    </tr>\n",
       "  </tbody>\n",
       "</table>\n",
       "</div>\n",
       "      <button class=\"colab-df-convert\" onclick=\"convertToInteractive('df-b2c0e075-ca12-4296-8984-7a0797259084')\"\n",
       "              title=\"Convert this dataframe to an interactive table.\"\n",
       "              style=\"display:none;\">\n",
       "        \n",
       "  <svg xmlns=\"http://www.w3.org/2000/svg\" height=\"24px\"viewBox=\"0 0 24 24\"\n",
       "       width=\"24px\">\n",
       "    <path d=\"M0 0h24v24H0V0z\" fill=\"none\"/>\n",
       "    <path d=\"M18.56 5.44l.94 2.06.94-2.06 2.06-.94-2.06-.94-.94-2.06-.94 2.06-2.06.94zm-11 1L8.5 8.5l.94-2.06 2.06-.94-2.06-.94L8.5 2.5l-.94 2.06-2.06.94zm10 10l.94 2.06.94-2.06 2.06-.94-2.06-.94-.94-2.06-.94 2.06-2.06.94z\"/><path d=\"M17.41 7.96l-1.37-1.37c-.4-.4-.92-.59-1.43-.59-.52 0-1.04.2-1.43.59L10.3 9.45l-7.72 7.72c-.78.78-.78 2.05 0 2.83L4 21.41c.39.39.9.59 1.41.59.51 0 1.02-.2 1.41-.59l7.78-7.78 2.81-2.81c.8-.78.8-2.07 0-2.86zM5.41 20L4 18.59l7.72-7.72 1.47 1.35L5.41 20z\"/>\n",
       "  </svg>\n",
       "      </button>\n",
       "      \n",
       "  <style>\n",
       "    .colab-df-container {\n",
       "      display:flex;\n",
       "      flex-wrap:wrap;\n",
       "      gap: 12px;\n",
       "    }\n",
       "\n",
       "    .colab-df-convert {\n",
       "      background-color: #E8F0FE;\n",
       "      border: none;\n",
       "      border-radius: 50%;\n",
       "      cursor: pointer;\n",
       "      display: none;\n",
       "      fill: #1967D2;\n",
       "      height: 32px;\n",
       "      padding: 0 0 0 0;\n",
       "      width: 32px;\n",
       "    }\n",
       "\n",
       "    .colab-df-convert:hover {\n",
       "      background-color: #E2EBFA;\n",
       "      box-shadow: 0px 1px 2px rgba(60, 64, 67, 0.3), 0px 1px 3px 1px rgba(60, 64, 67, 0.15);\n",
       "      fill: #174EA6;\n",
       "    }\n",
       "\n",
       "    [theme=dark] .colab-df-convert {\n",
       "      background-color: #3B4455;\n",
       "      fill: #D2E3FC;\n",
       "    }\n",
       "\n",
       "    [theme=dark] .colab-df-convert:hover {\n",
       "      background-color: #434B5C;\n",
       "      box-shadow: 0px 1px 3px 1px rgba(0, 0, 0, 0.15);\n",
       "      filter: drop-shadow(0px 1px 2px rgba(0, 0, 0, 0.3));\n",
       "      fill: #FFFFFF;\n",
       "    }\n",
       "  </style>\n",
       "\n",
       "      <script>\n",
       "        const buttonEl =\n",
       "          document.querySelector('#df-b2c0e075-ca12-4296-8984-7a0797259084 button.colab-df-convert');\n",
       "        buttonEl.style.display =\n",
       "          google.colab.kernel.accessAllowed ? 'block' : 'none';\n",
       "\n",
       "        async function convertToInteractive(key) {\n",
       "          const element = document.querySelector('#df-b2c0e075-ca12-4296-8984-7a0797259084');\n",
       "          const dataTable =\n",
       "            await google.colab.kernel.invokeFunction('convertToInteractive',\n",
       "                                                     [key], {});\n",
       "          if (!dataTable) return;\n",
       "\n",
       "          const docLinkHtml = 'Like what you see? Visit the ' +\n",
       "            '<a target=\"_blank\" href=https://colab.research.google.com/notebooks/data_table.ipynb>data table notebook</a>'\n",
       "            + ' to learn more about interactive tables.';\n",
       "          element.innerHTML = '';\n",
       "          dataTable['output_type'] = 'display_data';\n",
       "          await google.colab.output.renderOutput(dataTable, element);\n",
       "          const docLink = document.createElement('div');\n",
       "          docLink.innerHTML = docLinkHtml;\n",
       "          element.appendChild(docLink);\n",
       "        }\n",
       "      </script>\n",
       "    </div>\n",
       "  </div>\n",
       "  "
      ],
      "text/plain": [
       "   article_id  ...                                           features\n",
       "0   108775015  ...  strap top vest top garment upper body solid bl...\n",
       "1   108775044  ...  strap top vest top garment upper body solid wh...\n",
       "2   108775051  ...  strap top (1) vest top garment upper body stri...\n",
       "3   110065001  ...  op t-shirt (idro) bra underwear solid black da...\n",
       "4   110065002  ...  op t-shirt (idro) bra underwear solid white li...\n",
       "\n",
       "[5 rows x 17 columns]"
      ]
     },
     "execution_count": 12,
     "metadata": {},
     "output_type": "execute_result"
    }
   ],
   "source": [
    "df_new.head()"
   ]
  },
  {
   "cell_type": "code",
   "execution_count": null,
   "metadata": {
    "id": "Kx2L5kY-Xr2X"
   },
   "outputs": [],
   "source": [
    "cv = CountVectorizer()\n",
    "count_matrix = cv.fit_transform(df_new[\"features\"])"
   ]
  },
  {
   "cell_type": "code",
   "execution_count": null,
   "metadata": {
    "id": "UQE7LR0LOuRU"
   },
   "outputs": [],
   "source": [
    "item_features_df = pd.DataFrame(count_matrix.toarray(), columns = cv.get_feature_names_out(),index = df_new['article_id'])"
   ]
  },
  {
   "cell_type": "code",
   "execution_count": null,
   "metadata": {
    "id": "T-atFzrTEOnt"
   },
   "outputs": [],
   "source": [
    "item_features = count_matrix.toarray()"
   ]
  },
  {
   "cell_type": "code",
   "execution_count": null,
   "metadata": {
    "id": "tK5B9H-7Xr2X"
   },
   "outputs": [],
   "source": [
    "#cosine_sim = cosine_similarity(count_matrix)"
   ]
  },
  {
   "cell_type": "code",
   "execution_count": null,
   "metadata": {
    "id": "H4XzfHB7Xr2Y"
   },
   "outputs": [],
   "source": [
    "def get_title_from_index(index):\n",
    "    return df_new[df_new.index == index][\"article_id\"].values[0]\n",
    "\n",
    "def get_home(index):\n",
    "    return df_new[df_new.index == index][\"prod_name\"].values[0],df_new[df_new.index == index][\"colour_group_name\"].values[0]\n",
    "\n",
    "def get_index_from_title(title):\n",
    "    return df_new[df_new.article_id == title][\"index\"].values[0]"
   ]
  },
  {
   "cell_type": "markdown",
   "metadata": {
    "id": "ac2GkRJgQJdN"
   },
   "source": [
    "## Creating User Profiles  From Item Profiles"
   ]
  },
  {
   "cell_type": "code",
   "execution_count": null,
   "metadata": {
    "id": "WbOG8aalQMRO"
   },
   "outputs": [],
   "source": [
    "customers_df = pd.read_csv(\"customers_subset.csv\")"
   ]
  },
  {
   "cell_type": "code",
   "execution_count": null,
   "metadata": {
    "colab": {
     "base_uri": "https://localhost:8080/",
     "height": 250
    },
    "id": "Oo2WFwciXqGX",
    "outputId": "ded752b3-7ae3-4a75-b6f7-758772f272a4"
   },
   "outputs": [
    {
     "data": {
      "text/html": [
       "\n",
       "  <div id=\"df-67a721f8-659f-4dba-b359-c1121e04d042\">\n",
       "    <div class=\"colab-df-container\">\n",
       "      <div>\n",
       "<style scoped>\n",
       "    .dataframe tbody tr th:only-of-type {\n",
       "        vertical-align: middle;\n",
       "    }\n",
       "\n",
       "    .dataframe tbody tr th {\n",
       "        vertical-align: top;\n",
       "    }\n",
       "\n",
       "    .dataframe thead th {\n",
       "        text-align: right;\n",
       "    }\n",
       "</style>\n",
       "<table border=\"1\" class=\"dataframe\">\n",
       "  <thead>\n",
       "    <tr style=\"text-align: right;\">\n",
       "      <th></th>\n",
       "      <th>customer_id</th>\n",
       "      <th>FN</th>\n",
       "      <th>Active</th>\n",
       "      <th>club_member_status</th>\n",
       "      <th>fashion_news_frequency</th>\n",
       "      <th>age</th>\n",
       "      <th>postal_code</th>\n",
       "    </tr>\n",
       "  </thead>\n",
       "  <tbody>\n",
       "    <tr>\n",
       "      <th>0</th>\n",
       "      <td>0000423b00ade91418cceaf3b26c6af3dd342b51fd051e...</td>\n",
       "      <td>NaN</td>\n",
       "      <td>NaN</td>\n",
       "      <td>ACTIVE</td>\n",
       "      <td>NONE</td>\n",
       "      <td>25.0</td>\n",
       "      <td>2973abc54daa8a5f8ccfe9362140c63247c5eee03f1d93...</td>\n",
       "    </tr>\n",
       "    <tr>\n",
       "      <th>1</th>\n",
       "      <td>00007d2de826758b65a93dd24ce629ed66842531df6699...</td>\n",
       "      <td>1.0</td>\n",
       "      <td>1.0</td>\n",
       "      <td>ACTIVE</td>\n",
       "      <td>Regularly</td>\n",
       "      <td>32.0</td>\n",
       "      <td>8d6f45050876d059c830a0fe63f1a4c022de279bb68ce3...</td>\n",
       "    </tr>\n",
       "    <tr>\n",
       "      <th>2</th>\n",
       "      <td>00009d946eec3ea54add5ba56d5210ea898def4b46c685...</td>\n",
       "      <td>1.0</td>\n",
       "      <td>1.0</td>\n",
       "      <td>ACTIVE</td>\n",
       "      <td>Regularly</td>\n",
       "      <td>56.0</td>\n",
       "      <td>b31984b20a8c478de38eaf113c581ff64e63c4242e607b...</td>\n",
       "    </tr>\n",
       "    <tr>\n",
       "      <th>3</th>\n",
       "      <td>0000f1c71aafe5963c3d195cf273f7bfd50bbf17761c91...</td>\n",
       "      <td>1.0</td>\n",
       "      <td>1.0</td>\n",
       "      <td>ACTIVE</td>\n",
       "      <td>Regularly</td>\n",
       "      <td>30.0</td>\n",
       "      <td>7c902dca60ee0bd0f9030eefd445d11146e8d24835738a...</td>\n",
       "    </tr>\n",
       "    <tr>\n",
       "      <th>4</th>\n",
       "      <td>0001d44dbe7f6c4b35200abdb052c77a87596fe1bdcc37...</td>\n",
       "      <td>1.0</td>\n",
       "      <td>1.0</td>\n",
       "      <td>ACTIVE</td>\n",
       "      <td>Regularly</td>\n",
       "      <td>44.0</td>\n",
       "      <td>930b19ae7db8abb5a27f4da10217755a7305b4c452f5e0...</td>\n",
       "    </tr>\n",
       "  </tbody>\n",
       "</table>\n",
       "</div>\n",
       "      <button class=\"colab-df-convert\" onclick=\"convertToInteractive('df-67a721f8-659f-4dba-b359-c1121e04d042')\"\n",
       "              title=\"Convert this dataframe to an interactive table.\"\n",
       "              style=\"display:none;\">\n",
       "        \n",
       "  <svg xmlns=\"http://www.w3.org/2000/svg\" height=\"24px\"viewBox=\"0 0 24 24\"\n",
       "       width=\"24px\">\n",
       "    <path d=\"M0 0h24v24H0V0z\" fill=\"none\"/>\n",
       "    <path d=\"M18.56 5.44l.94 2.06.94-2.06 2.06-.94-2.06-.94-.94-2.06-.94 2.06-2.06.94zm-11 1L8.5 8.5l.94-2.06 2.06-.94-2.06-.94L8.5 2.5l-.94 2.06-2.06.94zm10 10l.94 2.06.94-2.06 2.06-.94-2.06-.94-.94-2.06-.94 2.06-2.06.94z\"/><path d=\"M17.41 7.96l-1.37-1.37c-.4-.4-.92-.59-1.43-.59-.52 0-1.04.2-1.43.59L10.3 9.45l-7.72 7.72c-.78.78-.78 2.05 0 2.83L4 21.41c.39.39.9.59 1.41.59.51 0 1.02-.2 1.41-.59l7.78-7.78 2.81-2.81c.8-.78.8-2.07 0-2.86zM5.41 20L4 18.59l7.72-7.72 1.47 1.35L5.41 20z\"/>\n",
       "  </svg>\n",
       "      </button>\n",
       "      \n",
       "  <style>\n",
       "    .colab-df-container {\n",
       "      display:flex;\n",
       "      flex-wrap:wrap;\n",
       "      gap: 12px;\n",
       "    }\n",
       "\n",
       "    .colab-df-convert {\n",
       "      background-color: #E8F0FE;\n",
       "      border: none;\n",
       "      border-radius: 50%;\n",
       "      cursor: pointer;\n",
       "      display: none;\n",
       "      fill: #1967D2;\n",
       "      height: 32px;\n",
       "      padding: 0 0 0 0;\n",
       "      width: 32px;\n",
       "    }\n",
       "\n",
       "    .colab-df-convert:hover {\n",
       "      background-color: #E2EBFA;\n",
       "      box-shadow: 0px 1px 2px rgba(60, 64, 67, 0.3), 0px 1px 3px 1px rgba(60, 64, 67, 0.15);\n",
       "      fill: #174EA6;\n",
       "    }\n",
       "\n",
       "    [theme=dark] .colab-df-convert {\n",
       "      background-color: #3B4455;\n",
       "      fill: #D2E3FC;\n",
       "    }\n",
       "\n",
       "    [theme=dark] .colab-df-convert:hover {\n",
       "      background-color: #434B5C;\n",
       "      box-shadow: 0px 1px 3px 1px rgba(0, 0, 0, 0.15);\n",
       "      filter: drop-shadow(0px 1px 2px rgba(0, 0, 0, 0.3));\n",
       "      fill: #FFFFFF;\n",
       "    }\n",
       "  </style>\n",
       "\n",
       "      <script>\n",
       "        const buttonEl =\n",
       "          document.querySelector('#df-67a721f8-659f-4dba-b359-c1121e04d042 button.colab-df-convert');\n",
       "        buttonEl.style.display =\n",
       "          google.colab.kernel.accessAllowed ? 'block' : 'none';\n",
       "\n",
       "        async function convertToInteractive(key) {\n",
       "          const element = document.querySelector('#df-67a721f8-659f-4dba-b359-c1121e04d042');\n",
       "          const dataTable =\n",
       "            await google.colab.kernel.invokeFunction('convertToInteractive',\n",
       "                                                     [key], {});\n",
       "          if (!dataTable) return;\n",
       "\n",
       "          const docLinkHtml = 'Like what you see? Visit the ' +\n",
       "            '<a target=\"_blank\" href=https://colab.research.google.com/notebooks/data_table.ipynb>data table notebook</a>'\n",
       "            + ' to learn more about interactive tables.';\n",
       "          element.innerHTML = '';\n",
       "          dataTable['output_type'] = 'display_data';\n",
       "          await google.colab.output.renderOutput(dataTable, element);\n",
       "          const docLink = document.createElement('div');\n",
       "          docLink.innerHTML = docLinkHtml;\n",
       "          element.appendChild(docLink);\n",
       "        }\n",
       "      </script>\n",
       "    </div>\n",
       "  </div>\n",
       "  "
      ],
      "text/plain": [
       "                                         customer_id  ...                                        postal_code\n",
       "0  0000423b00ade91418cceaf3b26c6af3dd342b51fd051e...  ...  2973abc54daa8a5f8ccfe9362140c63247c5eee03f1d93...\n",
       "1  00007d2de826758b65a93dd24ce629ed66842531df6699...  ...  8d6f45050876d059c830a0fe63f1a4c022de279bb68ce3...\n",
       "2  00009d946eec3ea54add5ba56d5210ea898def4b46c685...  ...  b31984b20a8c478de38eaf113c581ff64e63c4242e607b...\n",
       "3  0000f1c71aafe5963c3d195cf273f7bfd50bbf17761c91...  ...  7c902dca60ee0bd0f9030eefd445d11146e8d24835738a...\n",
       "4  0001d44dbe7f6c4b35200abdb052c77a87596fe1bdcc37...  ...  930b19ae7db8abb5a27f4da10217755a7305b4c452f5e0...\n",
       "\n",
       "[5 rows x 7 columns]"
      ]
     },
     "execution_count": 19,
     "metadata": {},
     "output_type": "execute_result"
    }
   ],
   "source": [
    "customers_df.head()"
   ]
  },
  {
   "cell_type": "code",
   "execution_count": null,
   "metadata": {
    "id": "Zl3KDNI68nBs"
   },
   "outputs": [],
   "source": [
    "transactions_df = pd.read_csv(\"transactions_train_subset.csv\").drop(['t_dat','price','sales_channel_id'],axis=1)"
   ]
  },
  {
   "cell_type": "code",
   "execution_count": null,
   "metadata": {
    "colab": {
     "base_uri": "https://localhost:8080/",
     "height": 423
    },
    "id": "dwn8aeAQZini",
    "outputId": "b60b3d0f-0397-4bb0-ae45-894a58bddf85"
   },
   "outputs": [
    {
     "data": {
      "text/html": [
       "\n",
       "  <div id=\"df-be4fdc72-a65c-4db7-8c1e-d4871937b5dc\">\n",
       "    <div class=\"colab-df-container\">\n",
       "      <div>\n",
       "<style scoped>\n",
       "    .dataframe tbody tr th:only-of-type {\n",
       "        vertical-align: middle;\n",
       "    }\n",
       "\n",
       "    .dataframe tbody tr th {\n",
       "        vertical-align: top;\n",
       "    }\n",
       "\n",
       "    .dataframe thead th {\n",
       "        text-align: right;\n",
       "    }\n",
       "</style>\n",
       "<table border=\"1\" class=\"dataframe\">\n",
       "  <thead>\n",
       "    <tr style=\"text-align: right;\">\n",
       "      <th></th>\n",
       "      <th>customer_id</th>\n",
       "      <th>article_id</th>\n",
       "    </tr>\n",
       "  </thead>\n",
       "  <tbody>\n",
       "    <tr>\n",
       "      <th>0</th>\n",
       "      <td>00007d2de826758b65a93dd24ce629ed66842531df6699...</td>\n",
       "      <td>505221004</td>\n",
       "    </tr>\n",
       "    <tr>\n",
       "      <th>1</th>\n",
       "      <td>00007d2de826758b65a93dd24ce629ed66842531df6699...</td>\n",
       "      <td>685687003</td>\n",
       "    </tr>\n",
       "    <tr>\n",
       "      <th>2</th>\n",
       "      <td>00007d2de826758b65a93dd24ce629ed66842531df6699...</td>\n",
       "      <td>685687004</td>\n",
       "    </tr>\n",
       "    <tr>\n",
       "      <th>3</th>\n",
       "      <td>00007d2de826758b65a93dd24ce629ed66842531df6699...</td>\n",
       "      <td>685687001</td>\n",
       "    </tr>\n",
       "    <tr>\n",
       "      <th>4</th>\n",
       "      <td>00007d2de826758b65a93dd24ce629ed66842531df6699...</td>\n",
       "      <td>505221001</td>\n",
       "    </tr>\n",
       "    <tr>\n",
       "      <th>...</th>\n",
       "      <td>...</td>\n",
       "      <td>...</td>\n",
       "    </tr>\n",
       "    <tr>\n",
       "      <th>13310255</th>\n",
       "      <td>ffe1791c9c6e3df9aafeebc77cf2cf03dd0123ac76ef90...</td>\n",
       "      <td>750422018</td>\n",
       "    </tr>\n",
       "    <tr>\n",
       "      <th>13310256</th>\n",
       "      <td>ffef8aec5cf011fa1393b40337a5993ce0b7b81af6b322...</td>\n",
       "      <td>853316001</td>\n",
       "    </tr>\n",
       "    <tr>\n",
       "      <th>13310257</th>\n",
       "      <td>ffef8aec5cf011fa1393b40337a5993ce0b7b81af6b322...</td>\n",
       "      <td>296366006</td>\n",
       "    </tr>\n",
       "    <tr>\n",
       "      <th>13310258</th>\n",
       "      <td>ffef8aec5cf011fa1393b40337a5993ce0b7b81af6b322...</td>\n",
       "      <td>789769001</td>\n",
       "    </tr>\n",
       "    <tr>\n",
       "      <th>13310259</th>\n",
       "      <td>fff5bd112051feb2367276df143f79bc69126814c73e21...</td>\n",
       "      <td>728156001</td>\n",
       "    </tr>\n",
       "  </tbody>\n",
       "</table>\n",
       "<p>13310260 rows × 2 columns</p>\n",
       "</div>\n",
       "      <button class=\"colab-df-convert\" onclick=\"convertToInteractive('df-be4fdc72-a65c-4db7-8c1e-d4871937b5dc')\"\n",
       "              title=\"Convert this dataframe to an interactive table.\"\n",
       "              style=\"display:none;\">\n",
       "        \n",
       "  <svg xmlns=\"http://www.w3.org/2000/svg\" height=\"24px\"viewBox=\"0 0 24 24\"\n",
       "       width=\"24px\">\n",
       "    <path d=\"M0 0h24v24H0V0z\" fill=\"none\"/>\n",
       "    <path d=\"M18.56 5.44l.94 2.06.94-2.06 2.06-.94-2.06-.94-.94-2.06-.94 2.06-2.06.94zm-11 1L8.5 8.5l.94-2.06 2.06-.94-2.06-.94L8.5 2.5l-.94 2.06-2.06.94zm10 10l.94 2.06.94-2.06 2.06-.94-2.06-.94-.94-2.06-.94 2.06-2.06.94z\"/><path d=\"M17.41 7.96l-1.37-1.37c-.4-.4-.92-.59-1.43-.59-.52 0-1.04.2-1.43.59L10.3 9.45l-7.72 7.72c-.78.78-.78 2.05 0 2.83L4 21.41c.39.39.9.59 1.41.59.51 0 1.02-.2 1.41-.59l7.78-7.78 2.81-2.81c.8-.78.8-2.07 0-2.86zM5.41 20L4 18.59l7.72-7.72 1.47 1.35L5.41 20z\"/>\n",
       "  </svg>\n",
       "      </button>\n",
       "      \n",
       "  <style>\n",
       "    .colab-df-container {\n",
       "      display:flex;\n",
       "      flex-wrap:wrap;\n",
       "      gap: 12px;\n",
       "    }\n",
       "\n",
       "    .colab-df-convert {\n",
       "      background-color: #E8F0FE;\n",
       "      border: none;\n",
       "      border-radius: 50%;\n",
       "      cursor: pointer;\n",
       "      display: none;\n",
       "      fill: #1967D2;\n",
       "      height: 32px;\n",
       "      padding: 0 0 0 0;\n",
       "      width: 32px;\n",
       "    }\n",
       "\n",
       "    .colab-df-convert:hover {\n",
       "      background-color: #E2EBFA;\n",
       "      box-shadow: 0px 1px 2px rgba(60, 64, 67, 0.3), 0px 1px 3px 1px rgba(60, 64, 67, 0.15);\n",
       "      fill: #174EA6;\n",
       "    }\n",
       "\n",
       "    [theme=dark] .colab-df-convert {\n",
       "      background-color: #3B4455;\n",
       "      fill: #D2E3FC;\n",
       "    }\n",
       "\n",
       "    [theme=dark] .colab-df-convert:hover {\n",
       "      background-color: #434B5C;\n",
       "      box-shadow: 0px 1px 3px 1px rgba(0, 0, 0, 0.15);\n",
       "      filter: drop-shadow(0px 1px 2px rgba(0, 0, 0, 0.3));\n",
       "      fill: #FFFFFF;\n",
       "    }\n",
       "  </style>\n",
       "\n",
       "      <script>\n",
       "        const buttonEl =\n",
       "          document.querySelector('#df-be4fdc72-a65c-4db7-8c1e-d4871937b5dc button.colab-df-convert');\n",
       "        buttonEl.style.display =\n",
       "          google.colab.kernel.accessAllowed ? 'block' : 'none';\n",
       "\n",
       "        async function convertToInteractive(key) {\n",
       "          const element = document.querySelector('#df-be4fdc72-a65c-4db7-8c1e-d4871937b5dc');\n",
       "          const dataTable =\n",
       "            await google.colab.kernel.invokeFunction('convertToInteractive',\n",
       "                                                     [key], {});\n",
       "          if (!dataTable) return;\n",
       "\n",
       "          const docLinkHtml = 'Like what you see? Visit the ' +\n",
       "            '<a target=\"_blank\" href=https://colab.research.google.com/notebooks/data_table.ipynb>data table notebook</a>'\n",
       "            + ' to learn more about interactive tables.';\n",
       "          element.innerHTML = '';\n",
       "          dataTable['output_type'] = 'display_data';\n",
       "          await google.colab.output.renderOutput(dataTable, element);\n",
       "          const docLink = document.createElement('div');\n",
       "          docLink.innerHTML = docLinkHtml;\n",
       "          element.appendChild(docLink);\n",
       "        }\n",
       "      </script>\n",
       "    </div>\n",
       "  </div>\n",
       "  "
      ],
      "text/plain": [
       "                                                customer_id  article_id\n",
       "0         00007d2de826758b65a93dd24ce629ed66842531df6699...   505221004\n",
       "1         00007d2de826758b65a93dd24ce629ed66842531df6699...   685687003\n",
       "2         00007d2de826758b65a93dd24ce629ed66842531df6699...   685687004\n",
       "3         00007d2de826758b65a93dd24ce629ed66842531df6699...   685687001\n",
       "4         00007d2de826758b65a93dd24ce629ed66842531df6699...   505221001\n",
       "...                                                     ...         ...\n",
       "13310255  ffe1791c9c6e3df9aafeebc77cf2cf03dd0123ac76ef90...   750422018\n",
       "13310256  ffef8aec5cf011fa1393b40337a5993ce0b7b81af6b322...   853316001\n",
       "13310257  ffef8aec5cf011fa1393b40337a5993ce0b7b81af6b322...   296366006\n",
       "13310258  ffef8aec5cf011fa1393b40337a5993ce0b7b81af6b322...   789769001\n",
       "13310259  fff5bd112051feb2367276df143f79bc69126814c73e21...   728156001\n",
       "\n",
       "[13310260 rows x 2 columns]"
      ]
     },
     "execution_count": 21,
     "metadata": {},
     "output_type": "execute_result"
    }
   ],
   "source": [
    "transactions_df"
   ]
  },
  {
   "cell_type": "code",
   "execution_count": null,
   "metadata": {
    "id": "_dPVS9y-RnUC"
   },
   "outputs": [],
   "source": [
    "transactions_df = transactions_df[transactions_df.customer_id.isin(pd.read_csv(\"transactions_test_subset.csv\").customer_id)]"
   ]
  },
  {
   "cell_type": "code",
   "execution_count": null,
   "metadata": {
    "colab": {
     "base_uri": "https://localhost:8080/",
     "height": 423
    },
    "id": "5h1wCDOmSbOM",
    "outputId": "900f1c3d-00ba-46d0-8b47-7f0813e4cdd1"
   },
   "outputs": [
    {
     "data": {
      "text/html": [
       "\n",
       "  <div id=\"df-1b8b7062-a2d4-4f7d-9e2e-3093b72f5677\">\n",
       "    <div class=\"colab-df-container\">\n",
       "      <div>\n",
       "<style scoped>\n",
       "    .dataframe tbody tr th:only-of-type {\n",
       "        vertical-align: middle;\n",
       "    }\n",
       "\n",
       "    .dataframe tbody tr th {\n",
       "        vertical-align: top;\n",
       "    }\n",
       "\n",
       "    .dataframe thead th {\n",
       "        text-align: right;\n",
       "    }\n",
       "</style>\n",
       "<table border=\"1\" class=\"dataframe\">\n",
       "  <thead>\n",
       "    <tr style=\"text-align: right;\">\n",
       "      <th></th>\n",
       "      <th>customer_id</th>\n",
       "      <th>article_id</th>\n",
       "    </tr>\n",
       "  </thead>\n",
       "  <tbody>\n",
       "    <tr>\n",
       "      <th>45</th>\n",
       "      <td>00d781e94d9a533dceb85a8d50a898d5987ad9921ea8c6...</td>\n",
       "      <td>685687004</td>\n",
       "    </tr>\n",
       "    <tr>\n",
       "      <th>46</th>\n",
       "      <td>00d781e94d9a533dceb85a8d50a898d5987ad9921ea8c6...</td>\n",
       "      <td>678983004</td>\n",
       "    </tr>\n",
       "    <tr>\n",
       "      <th>47</th>\n",
       "      <td>00d781e94d9a533dceb85a8d50a898d5987ad9921ea8c6...</td>\n",
       "      <td>616708004</td>\n",
       "    </tr>\n",
       "    <tr>\n",
       "      <th>48</th>\n",
       "      <td>00d781e94d9a533dceb85a8d50a898d5987ad9921ea8c6...</td>\n",
       "      <td>568858001</td>\n",
       "    </tr>\n",
       "    <tr>\n",
       "      <th>49</th>\n",
       "      <td>00d781e94d9a533dceb85a8d50a898d5987ad9921ea8c6...</td>\n",
       "      <td>640462002</td>\n",
       "    </tr>\n",
       "    <tr>\n",
       "      <th>...</th>\n",
       "      <td>...</td>\n",
       "      <td>...</td>\n",
       "    </tr>\n",
       "    <tr>\n",
       "      <th>13310254</th>\n",
       "      <td>ffe1791c9c6e3df9aafeebc77cf2cf03dd0123ac76ef90...</td>\n",
       "      <td>750422018</td>\n",
       "    </tr>\n",
       "    <tr>\n",
       "      <th>13310255</th>\n",
       "      <td>ffe1791c9c6e3df9aafeebc77cf2cf03dd0123ac76ef90...</td>\n",
       "      <td>750422018</td>\n",
       "    </tr>\n",
       "    <tr>\n",
       "      <th>13310256</th>\n",
       "      <td>ffef8aec5cf011fa1393b40337a5993ce0b7b81af6b322...</td>\n",
       "      <td>853316001</td>\n",
       "    </tr>\n",
       "    <tr>\n",
       "      <th>13310257</th>\n",
       "      <td>ffef8aec5cf011fa1393b40337a5993ce0b7b81af6b322...</td>\n",
       "      <td>296366006</td>\n",
       "    </tr>\n",
       "    <tr>\n",
       "      <th>13310258</th>\n",
       "      <td>ffef8aec5cf011fa1393b40337a5993ce0b7b81af6b322...</td>\n",
       "      <td>789769001</td>\n",
       "    </tr>\n",
       "  </tbody>\n",
       "</table>\n",
       "<p>2911135 rows × 2 columns</p>\n",
       "</div>\n",
       "      <button class=\"colab-df-convert\" onclick=\"convertToInteractive('df-1b8b7062-a2d4-4f7d-9e2e-3093b72f5677')\"\n",
       "              title=\"Convert this dataframe to an interactive table.\"\n",
       "              style=\"display:none;\">\n",
       "        \n",
       "  <svg xmlns=\"http://www.w3.org/2000/svg\" height=\"24px\"viewBox=\"0 0 24 24\"\n",
       "       width=\"24px\">\n",
       "    <path d=\"M0 0h24v24H0V0z\" fill=\"none\"/>\n",
       "    <path d=\"M18.56 5.44l.94 2.06.94-2.06 2.06-.94-2.06-.94-.94-2.06-.94 2.06-2.06.94zm-11 1L8.5 8.5l.94-2.06 2.06-.94-2.06-.94L8.5 2.5l-.94 2.06-2.06.94zm10 10l.94 2.06.94-2.06 2.06-.94-2.06-.94-.94-2.06-.94 2.06-2.06.94z\"/><path d=\"M17.41 7.96l-1.37-1.37c-.4-.4-.92-.59-1.43-.59-.52 0-1.04.2-1.43.59L10.3 9.45l-7.72 7.72c-.78.78-.78 2.05 0 2.83L4 21.41c.39.39.9.59 1.41.59.51 0 1.02-.2 1.41-.59l7.78-7.78 2.81-2.81c.8-.78.8-2.07 0-2.86zM5.41 20L4 18.59l7.72-7.72 1.47 1.35L5.41 20z\"/>\n",
       "  </svg>\n",
       "      </button>\n",
       "      \n",
       "  <style>\n",
       "    .colab-df-container {\n",
       "      display:flex;\n",
       "      flex-wrap:wrap;\n",
       "      gap: 12px;\n",
       "    }\n",
       "\n",
       "    .colab-df-convert {\n",
       "      background-color: #E8F0FE;\n",
       "      border: none;\n",
       "      border-radius: 50%;\n",
       "      cursor: pointer;\n",
       "      display: none;\n",
       "      fill: #1967D2;\n",
       "      height: 32px;\n",
       "      padding: 0 0 0 0;\n",
       "      width: 32px;\n",
       "    }\n",
       "\n",
       "    .colab-df-convert:hover {\n",
       "      background-color: #E2EBFA;\n",
       "      box-shadow: 0px 1px 2px rgba(60, 64, 67, 0.3), 0px 1px 3px 1px rgba(60, 64, 67, 0.15);\n",
       "      fill: #174EA6;\n",
       "    }\n",
       "\n",
       "    [theme=dark] .colab-df-convert {\n",
       "      background-color: #3B4455;\n",
       "      fill: #D2E3FC;\n",
       "    }\n",
       "\n",
       "    [theme=dark] .colab-df-convert:hover {\n",
       "      background-color: #434B5C;\n",
       "      box-shadow: 0px 1px 3px 1px rgba(0, 0, 0, 0.15);\n",
       "      filter: drop-shadow(0px 1px 2px rgba(0, 0, 0, 0.3));\n",
       "      fill: #FFFFFF;\n",
       "    }\n",
       "  </style>\n",
       "\n",
       "      <script>\n",
       "        const buttonEl =\n",
       "          document.querySelector('#df-1b8b7062-a2d4-4f7d-9e2e-3093b72f5677 button.colab-df-convert');\n",
       "        buttonEl.style.display =\n",
       "          google.colab.kernel.accessAllowed ? 'block' : 'none';\n",
       "\n",
       "        async function convertToInteractive(key) {\n",
       "          const element = document.querySelector('#df-1b8b7062-a2d4-4f7d-9e2e-3093b72f5677');\n",
       "          const dataTable =\n",
       "            await google.colab.kernel.invokeFunction('convertToInteractive',\n",
       "                                                     [key], {});\n",
       "          if (!dataTable) return;\n",
       "\n",
       "          const docLinkHtml = 'Like what you see? Visit the ' +\n",
       "            '<a target=\"_blank\" href=https://colab.research.google.com/notebooks/data_table.ipynb>data table notebook</a>'\n",
       "            + ' to learn more about interactive tables.';\n",
       "          element.innerHTML = '';\n",
       "          dataTable['output_type'] = 'display_data';\n",
       "          await google.colab.output.renderOutput(dataTable, element);\n",
       "          const docLink = document.createElement('div');\n",
       "          docLink.innerHTML = docLinkHtml;\n",
       "          element.appendChild(docLink);\n",
       "        }\n",
       "      </script>\n",
       "    </div>\n",
       "  </div>\n",
       "  "
      ],
      "text/plain": [
       "                                                customer_id  article_id\n",
       "45        00d781e94d9a533dceb85a8d50a898d5987ad9921ea8c6...   685687004\n",
       "46        00d781e94d9a533dceb85a8d50a898d5987ad9921ea8c6...   678983004\n",
       "47        00d781e94d9a533dceb85a8d50a898d5987ad9921ea8c6...   616708004\n",
       "48        00d781e94d9a533dceb85a8d50a898d5987ad9921ea8c6...   568858001\n",
       "49        00d781e94d9a533dceb85a8d50a898d5987ad9921ea8c6...   640462002\n",
       "...                                                     ...         ...\n",
       "13310254  ffe1791c9c6e3df9aafeebc77cf2cf03dd0123ac76ef90...   750422018\n",
       "13310255  ffe1791c9c6e3df9aafeebc77cf2cf03dd0123ac76ef90...   750422018\n",
       "13310256  ffef8aec5cf011fa1393b40337a5993ce0b7b81af6b322...   853316001\n",
       "13310257  ffef8aec5cf011fa1393b40337a5993ce0b7b81af6b322...   296366006\n",
       "13310258  ffef8aec5cf011fa1393b40337a5993ce0b7b81af6b322...   789769001\n",
       "\n",
       "[2911135 rows x 2 columns]"
      ]
     },
     "execution_count": 23,
     "metadata": {},
     "output_type": "execute_result"
    }
   ],
   "source": [
    "transactions_df"
   ]
  },
  {
   "cell_type": "code",
   "execution_count": null,
   "metadata": {
    "id": "09vPDw1xMfBs"
   },
   "outputs": [],
   "source": [
    "l = []\n",
    "\n",
    "for i in range(5):\n",
    "  l.append(transactions_df.iloc[i*582227:(i+1)*582227].merge(item_features_df,on= \"article_id\",how=\"left\"))\n"
   ]
  },
  {
   "cell_type": "code",
   "execution_count": null,
   "metadata": {
    "id": "CnytpGm0Nwj1"
   },
   "outputs": [],
   "source": [
    "merged_trans = pd.concat(l)"
   ]
  },
  {
   "cell_type": "code",
   "execution_count": null,
   "metadata": {
    "id": "VzjQkyC8YezL"
   },
   "outputs": [],
   "source": []
  },
  {
   "cell_type": "code",
   "execution_count": null,
   "metadata": {
    "id": "xK5NodSKWcCH"
   },
   "outputs": [],
   "source": [
    "user_feature_df = merged_trans.drop(['article_id'],axis=1).groupby('customer_id').mean()"
   ]
  },
  {
   "cell_type": "code",
   "execution_count": null,
   "metadata": {
    "id": "io-TSbTnbPWU"
   },
   "outputs": [],
   "source": [
    "user_feature_df.shape"
   ]
  },
  {
   "cell_type": "code",
   "execution_count": null,
   "metadata": {
    "id": "p3S1UvM9a7yU"
   },
   "outputs": [],
   "source": [
    "item_features_df.shape"
   ]
  },
  {
   "cell_type": "code",
   "execution_count": null,
   "metadata": {
    "id": "1jhHqhehbA1f"
   },
   "outputs": [],
   "source": [
    "item_user_features = pd.concat([item_features_df,user_feature_df])"
   ]
  },
  {
   "cell_type": "markdown",
   "metadata": {},
   "source": [
    "## Generating Recommendations "
   ]
  },
  {
   "cell_type": "code",
   "execution_count": null,
   "metadata": {
    "id": "tpebxZSSbrBY"
   },
   "outputs": [],
   "source": [
    "item_user_sim = cosine_similarity(item_user_features.to_numpy())"
   ]
  },
  {
   "cell_type": "code",
   "execution_count": null,
   "metadata": {
    "id": "EshFtiXwbrWJ"
   },
   "outputs": [],
   "source": [
    "all_recommendations = []\n",
    "\n",
    "for idx,customer_id_iter in enumerate(user_feature_df.index):\n",
    "  customer_idx = 99773 + idx\n",
    "  similar_products =  list(enumerate(item_user_sim[customer_idx][:99773]))\n",
    "\n",
    "  sorted_similar_products = sorted(similar_products,key=lambda x:x[1],reverse=True)\n",
    "\n",
    "  temp = []\n",
    "  i=0\n",
    "  for element in sorted_similar_products:\n",
    "    #print(element,i)\n",
    "    try:\n",
    "     # print (get_title_from_index(element[0]),get_home(element[0]))\n",
    "      if int(element[0]) < 99773 :\n",
    "        temp.append(get_title_from_index(element[0]))\n",
    "        i=i+1\n",
    "    except Exception:\n",
    "      continue\n",
    "    if i>12:\n",
    "      break\n",
    "  all_recommendations.append(temp)\n"
   ]
  },
  {
   "cell_type": "code",
   "execution_count": null,
   "metadata": {
    "id": "fMwWgPiteclr"
   },
   "outputs": [],
   "source": [
    "len(all_recommendations)"
   ]
  },
  {
   "cell_type": "code",
   "execution_count": null,
   "metadata": {
    "id": "FjjJoZ3bfJZz"
   },
   "outputs": [],
   "source": [
    "user_feature_df[\"article_id\"] = all_recommendations"
   ]
  },
  {
   "cell_type": "code",
   "execution_count": null,
   "metadata": {},
   "outputs": [],
   "source": [
    "user_feature_df[['customer_id','article_id']].to_csv(\"content_based_recommender.csv\")"
   ]
  }
 ],
 "metadata": {
  "colab": {
   "name": "H&M_content_based.ipynb",
   "provenance": []
  },
  "kernelspec": {
   "display_name": "Python 3",
   "language": "python",
   "name": "python3"
  },
  "language_info": {
   "codemirror_mode": {
    "name": "ipython",
    "version": 3
   },
   "file_extension": ".py",
   "mimetype": "text/x-python",
   "name": "python",
   "nbconvert_exporter": "python",
   "pygments_lexer": "ipython3",
   "version": "3.7.3"
  }
 },
 "nbformat": 4,
 "nbformat_minor": 1
}
