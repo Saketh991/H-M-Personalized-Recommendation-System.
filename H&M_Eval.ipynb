{
 "cells": [
  {
   "cell_type": "code",
   "execution_count": null,
   "metadata": {
    "id": "0AXqwkRF6ws4"
   },
   "outputs": [],
   "source": [
    "import pandas as pd\n",
    "import numpy as np\n"
   ]
  },
  {
   "cell_type": "code",
   "execution_count": null,
   "metadata": {
    "id": "SM8D1Ut-CWGD"
   },
   "outputs": [],
   "source": [
    "\n",
    "def eval(pred_path,true_path):\n",
    "    '''\n",
    "    Reads the Predicted Recommendations and Compares it with the Actual Purchases in the Testing Period\n",
    "    Arguments : \n",
    "        pred_path - Path to the File containing the Generated Recommendations\n",
    "        true_path - Path to the File containing the Actual Purchases during the testing week\n",
    "    \n",
    "    '''\n",
    "  rec = pd.read_csv(pred_path)\n",
    "  true = pd.read_csv(true_path)\n",
    "  rec = rec[rec.customer_id.isin(true.customer_id)]\n",
    "  df = pd.DataFrame(true.groupby(\"customer_id\")['article_id'].apply(list))\n",
    "  df['customer_id']  = df.index\n",
    "  df = df.rename(columns = {'article_id':'relevant_items'})\n",
    "  df = df.reset_index(drop=True)\n",
    "  whole_data = rec.merge(df,on=\"customer_id\")\n",
    "\n",
    "  k = []\n",
    "\n",
    "  for i in whole_data['article_id']:\n",
    "    k.append(i.strip('][').split(','))\n",
    "  \n",
    "  l = []\n",
    "\n",
    "  for i in whole_data['relevant_items']:\n",
    "    #l.append(i)\n",
    "    l.append(str(i).strip('][').split(','))\n",
    "  print(np.mean([mapk(l,k,k=i) for i in range(1,13) ]))"
   ]
  },
  {
   "cell_type": "code",
   "execution_count": null,
   "metadata": {
    "id": "dldhX6aiKQPX"
   },
   "outputs": [],
   "source": [
    "def apk(actual, predicted, k=12):\n",
    "    # Computes Average Precision at K\n",
    "    if len(predicted)>k:\n",
    "        predicted = predicted[:k]\n",
    "    \n",
    "    score = 0.0\n",
    "    num_hits = 0.0\n",
    "    #predicted = predicted.split()\n",
    "    #actual = actual.split()\n",
    "    for i,p in enumerate(predicted):\n",
    "        if p in actual and p not in predicted[:i]:\n",
    "            num_hits += 1.0\n",
    "            score += num_hits / (i+1.0)\n",
    "    return score / min(len(actual), k)\n",
    "\n",
    "def mapk(actual, predicted, k=12):\n",
    "    #Computes Mean Average Precision at K \n",
    " \n",
    "    return np.mean([apk(a,p,k) for a,p in zip(actual,predicted)])"
   ]
  },
  {
   "cell_type": "code",
   "execution_count": 9,
   "metadata": {
    "colab": {
     "base_uri": "https://localhost:8080/"
    },
    "id": "CGNm93AuGEtR",
    "outputId": "46f6b4bc-3b58-40d8-9283-94a713bc451c"
   },
   "outputs": [
    {
     "name": "stdout",
     "output_type": "stream",
     "text": [
      "MAP@12 Using Item Similarity Approach Implemented through turicreate 0.01871074801814001\n"
     ]
    }
   ],
   "source": [
    "print(\"MAP@12 Using Item Similarity Approach Implemented through turicreate\",eval(\"turicreate_item_similarity_recommender.csv\",\"transactions_test_subset.csv\"))"
   ]
  },
  {
   "cell_type": "code",
   "execution_count": 8,
   "metadata": {},
   "outputs": [
    {
     "name": "stdout",
     "output_type": "stream",
     "text": [
      "MAP@12 Using Content Based   0.021639737008585853\n"
     ]
    }
   ],
   "source": [
    "print(\"MAP@12 Using Content Based  \",eval(\"content_based_recommender.csv\",\"transactions_test_subset.csv\"))"
   ]
  },
  {
   "cell_type": "code",
   "execution_count": 2,
   "metadata": {
    "colab": {
     "base_uri": "https://localhost:8080/"
    },
    "id": "Rd4bi0vjFgwu",
    "outputId": "868d5a10-4b63-4fbc-e57e-0b0740905a61"
   },
   "outputs": [
    {
     "name": "stdout",
     "output_type": "stream",
     "text": [
      "MAP@12 Using Ranking Factorization   0.027764412212098896\n"
     ]
    }
   ],
   "source": [
    "print(\"MAP@12 Using Ranking Factorization  \",eval(\"ranking_factorization_recommender.csv\",\"transactions_test_subset.csv\"))"
   ]
  },
  {
   "cell_type": "code",
   "execution_count": 1,
   "metadata": {
    "id": "5vGAS96fOT3Y"
   },
   "outputs": [
    {
     "name": "stdout",
     "output_type": "stream",
     "text": [
      "MAP@12 Using ALS Collaborative 0.025400162713870553\n"
     ]
    }
   ],
   "source": [
    "print(\"MAP@12 Using ALS Collaborative\",eval(\"test_predictions_ALS.csv\",\"transactions_test_subset.csv\"))"
   ]
  },
  {
   "cell_type": "code",
   "execution_count": 3,
   "metadata": {},
   "outputs": [
    {
     "name": "stdout",
     "output_type": "stream",
     "text": [
      "MAP@12 Using Item Item Collaborative 0.02273702200656474\n"
     ]
    }
   ],
   "source": [
    "print(\"MAP@12 Using Item Item Collaborative\",eval(\"test_predictions_collab.csv\",\"transactions_test_subset.csv\"))"
   ]
  },
  {
   "cell_type": "code",
   "execution_count": null,
   "metadata": {},
   "outputs": [],
   "source": []
  }
 ],
 "metadata": {
  "colab": {
   "name": "H&M_Eval.ipynb",
   "provenance": []
  },
  "kernelspec": {
   "display_name": "Python 3",
   "language": "python",
   "name": "python3"
  },
  "language_info": {
   "codemirror_mode": {
    "name": "ipython",
    "version": 3
   },
   "file_extension": ".py",
   "mimetype": "text/x-python",
   "name": "python",
   "nbconvert_exporter": "python",
   "pygments_lexer": "ipython3",
   "version": "3.7.3"
  }
 },
 "nbformat": 4,
 "nbformat_minor": 1
}
